{
 "cells": [
  {
   "cell_type": "markdown",
   "metadata": {},
   "source": [
    "# Tara Shift! A Comparison of Restricted Boltzmann Machine and Extreme Learning Machine Networks on an Imbalanced Dataset with High Cardinality Categorical Features\n",
    "\n",
    "Submitted by: Ethan Robert A. Casin"
   ]
  },
  {
   "cell_type": "markdown",
   "metadata": {},
   "source": [
    "## Executive Summary"
   ]
  },
  {
   "cell_type": "markdown",
   "metadata": {},
   "source": [
    "For this project I introduced two new models that would be helpful in for future work and experimentation. Some of these networks have proven important in the history of neural networks. The models introduced are the Restricted Boltzmann Machine (RBM) and the Extreme Learning Machine (ELM). A benchmark neural network based on a customer churn model was created to determine how the model fairs with typical neural networks.\n",
    "\n",
    "It was found that the typical neural network outperformed the generated networks by a fair amount. Technically, the models did beat the base $PCC$ of 62.57%, only the typical ANN beat the $1.25PCC$ value. What's interesting in this project was how well the ELM model performed with the short runtime. "
   ]
  },
  {
   "cell_type": "markdown",
   "metadata": {},
   "source": [
    "# Introduction"
   ]
  },
  {
   "cell_type": "markdown",
   "metadata": {},
   "source": [
    "Before undertaking the MSDS program, I was reading some papers on neural networks. One was about the long history of their development and another about its critique. Naturally, the first network I learned was the perceptron. A really shallow network, which is relatively easier to understand than more advanced networks like GANs. In reading those articles, I was really interested in the Restricted Boltzmann Machine (RBM). In part because it uses a physics concept  and it was weird seeing it in a discussion on AI. From there, I really wanted to explore more about this network and other networks like it.\n",
    "\n",
    "For this project, I want to know how effective the Restricted Boltzmann Machine and Extreme Learning Machine (ELM) networks in an imbalanced and highly categorical dataset. The goal here is to challenge and verify their effectiveness \n",
    "in datasets where ML1 concepts would suffice. For this purpose, I found a dataset in Kaggle centered on human resource analytics. \n",
    "\n",
    "The potential value of this project is mostly for learning. Learning about these two models and how they are implemented in a typical work-flow. Moreover, these models were quite the conversation starters before with some of them being used for commercial applications. The networks here are building blocks of more advanced recommender systems or even embedded devices. Knowing these models may help us understand why we choose newer models, and it would help us give a background if the time comes that research were to go back to these models."
   ]
  },
  {
   "cell_type": "markdown",
   "metadata": {},
   "source": [
    "## Theoretical Background\n",
    "\n",
    "Since the models are new, I thought it would be appropriate to give a quick conceptual background on how these two work. "
   ]
  },
  {
   "cell_type": "markdown",
   "metadata": {},
   "source": [
    "### Restricted Boltzmann Machine"
   ]
  },
  {
   "cell_type": "markdown",
   "metadata": {},
   "source": [
    "Restricted Boltzmann Machines (RBMs) are stochastic generative models that are able to learn the probability distribution of certain inputs. Since it is a stochastic model, each neuron will behave randomly when it is activated. The figure below is an example of a simple RBM model.\n",
    "\n",
    "<img src=\"https://miro.medium.com/max/1760/1*De0RDPU_XRqT0BMAVE4vqA.png\" width=650em></img>\n",
    "<font size=1em>Image src: https://towardsdatascience.com/deep-learning-meets-physics-restricted-boltzmann-machines-part-i-6df5c4918c15</font>\n",
    "\n",
    "The steps involved with RBMs are quite similar to typical neural networks: conduct a feed forward pass, then do backpropagation. To give a bit more of an idea, I will walk you through the learning process of an RBM, but it will not be as detailed as [1, 3]. "
   ]
  },
  {
   "cell_type": "markdown",
   "metadata": {},
   "source": [
    "First we do a forward pass on a model, where we multiply the inputs with their corresponding weights and add the bias.  The result of this will be passed to a sigmoid function, which will determine if the hidden state gets activated or not. \n",
    "\n",
    "<img src=\"https://wiki.pathmind.com/images/wiki/multiple_inputs_RBM.png\" width=450em></img>\n",
    "<font size=1em>Image src: https://wiki.pathmind.com/restricted-boltzmann-machine</font>\n",
    "\n",
    "The above image displays how the forward pass is done. Mathematically, the result should follow the equation\n",
    "\n",
    "$$\\mathbf{h}^{(1)} = g(\\mathbf{v}^{(0)T}w + b),$$\n",
    "\n",
    "where $\\mathbf{h}^{(0)}$ and $\\mathbf{v}^{(0)}$ are the vectors for the hidden and visible layers, respectively. This looks similar to a standard feed-forward formula with weights $w$, bias $b$, and activation function $g(\\cdot)$. Note that in this case the activation function is a sigmoid function. Note that the superscripts are the iteration number.\n",
    "\n",
    "We then do a backward pass called the **reconstruction phase**. This phase turns the hidden layer output on the forward pass into inputs for the reconstruction phase. An image below shows how this would look like visually.\n",
    "\n",
    "<img src=\"https://wiki.pathmind.com/images/wiki/reconstruction_RBM.png\" width=450em></img>\n",
    "<font size=1em>Image src: https://wiki.pathmind.com/restricted-boltzmann-machine</font>\n",
    "\n",
    "Mathematically, the reconstruction phase becomes\n",
    "\n",
    "$$\\mathbf{v}^{(1)} = g(\\mathbf{h}^{(1)}w^T + b),$$\n",
    "\n",
    "where $\\mathbf{v}^{(1)}$ and $\\mathbf{h}^{(1)}$ are the vectors for the visible and hidden layers, respectively. Since the weights of an RBM are randomly set, the difference between reconstructions and the original input can be quite large. We can think of this as the reconstruction error that we need to minimize during training.\n",
    "\n",
    "$$\\mathbf{v}^{(0)} - \\mathbf{v}^{(1)}$$\n",
    "\n",
    "We also saw that on the forward pass that the RBM uses the inputs to predict if the nodes will be activated, or the probability for output $\\mathbf{h}^{(1)}$ given $\\mathbf{v}^{(0)}$ and then weights $w$.\n",
    "\n",
    "$$p(\\mathbf{h}^{(1)}|\\mathbf{v}^{(0)}; w)$$\n",
    "\n",
    "Similarly, we are calculating the probability of the output $\\mathbf{v}^{(1)}$ given $\\mathbf{h}^{(1)}$ and $w$ for the backward pass. \n",
    "\n",
    "$$p(\\mathbf{v}^{(1)}|\\mathbf{h}^{(1)}; w)$$\n",
    "\n",
    "This would leave us with a joint probability for the inputs and activations, given by\n",
    "\n",
    "$$p(\\mathbf{v}, \\mathbf{h}).$$"
   ]
  },
  {
   "cell_type": "markdown",
   "metadata": {},
   "source": [
    "#### Learning Rule"
   ]
  },
  {
   "cell_type": "markdown",
   "metadata": {},
   "source": [
    "RBMs are also energy-based models. Therefore, RBMs, with a joint condition of $(\\mathbf{v}, \\mathbf{h})$, has the energy\n",
    "\n",
    "$$E(\\mathbf{v}, \\mathbf{h}) = -\\sum_{i\\in \\text{visible}} a_iv_i - \\sum_{j\\in \\text{hidden}}b_jh_j - \\sum_{ij}v_ih_jw_{ij},$$\n",
    "\n",
    "where $v_i,\\ h_i$ are the binary states of the visible unit $i$ and hidden unit $j$, $a_i,\\ b_j$ are the biases and $w_{ij}$ is the weight between the visible and hidden nodes. \n",
    "\n",
    "The probability that the network assigns to a visible vector, $v$, is the sum over all possible hidden vectors\n",
    "\n",
    "$$p(\\mathbf{v}) = \\frac{1}{Z}\\sum_{\\mathbf{h}}e^{-E(\\mathbf{v}, \\mathbf{h})},$$\n",
    "\n",
    "where $Z$ is a partition function. $Z$ is found by getting the sum over all possible pairs of visible and hidden vectors, defined as\n",
    "\n",
    "$$Z = \\sum_{\\mathbf{v}, \\mathbf{h}}e^{-E(\\mathbf{v}, \\mathbf{h})}.$$\n",
    "\n",
    "The log-likelihood gradient of a training vector with respect to a weight $w_{ij}$ is\n",
    "\n",
    "$$\\frac{\\partial \\log p(\\mathbf{v})}{\\partial w_{ij}} = \\langle v_ih_j\\rangle_{\\text{data}} - \\langle v_ih_j\\rangle_{\\text{model}},$$\n",
    "\n",
    "where the angle brackets denote the expectations under the distribution specified. Therefore, the learning rule now becomes\n",
    "\n",
    "$$\\Delta w_{ij} = \\alpha(\\langle v_ih_j\\rangle_{\\text{data}} - \\langle v_ih_j\\rangle_{\\text{model}}), $$\n",
    "\n",
    "where $\\alpha$ is the learning rate. Since an RBM does not give classification inputs, it is often used to determine a feature vector that is used to train a classifier. Therefore, an RBM is placed before a classifier in this study."
   ]
  },
  {
   "cell_type": "markdown",
   "metadata": {},
   "source": [
    "### Extreme Learning Machine"
   ]
  },
  {
   "cell_type": "markdown",
   "metadata": {},
   "source": [
    "Compared to typical neural networks, ELMs don't require backpropagation to learn the weights. Instead, an ELM learns by using the Moore-Penrose generalized inverse to function. Because it does not require backpropagation, ELMs are generally faster to train while observing good performance. The image below is a schematic diagram of an ELM.\n",
    "\n",
    "<img src=\"https://www.researchgate.net/publication/324117237/figure/fig2/AS:610052247396352@1522459198029/The-schematic-diagram-of-extreme-learning-machine-ELM.png\" width=650em></img>\n",
    "<font size=1em>Image src: https://www.researchgate.net/figure/The-schematic-diagram-of-extreme-learning-machine-ELM_fig2_324117237</font>"
   ]
  },
  {
   "cell_type": "markdown",
   "metadata": {},
   "source": [
    "An ELM computes its output based on the formula\n",
    "\n",
    "\\begin{equation*}\n",
    "f_L = \\sum^L_{i=1}\\beta_ig_i(w_i\\cdot x_j + b_i),\n",
    "\\end{equation*}\n",
    "\n",
    "where $L$ is the number of hidden units, $j = 1,\\dots,N$, where $N$ is the number of training samples, $w_i$ is a weight vector between input and hidden layer, $g$ is an activation function, $b_i$ is a bias vector, $x_j$ is an input vector, and $\\beta_i$ is the weight vector between hidden and output layers. \n",
    "\n",
    "This formula can be simplified further into a target matrix $T$ and a hidden layer output matrix $H$\n",
    "\n",
    "$$T = H\\beta.$$\n",
    "\n",
    "$H$ is defined as a matrix that contains the outputs of the activation functions in the hidden layer. In matrix form:\n",
    "\n",
    "\\begin{equation*}\n",
    "H = \\begin{bmatrix}\n",
    "g(w_1\\cdot x_1 + b_1) & \\dots & g(w_L\\cdot x_1 + b_L)\\\\\n",
    "\\vdots & \\ddots & \\vdots\\\\\n",
    "g(w_1\\cdot x_N + b_1) & \\dots & g(w_L\\cdot x_N + b_L)\n",
    "\\end{bmatrix}\n",
    "\\end{equation*}\n",
    "\n",
    "Without going further with the mathematical formulation, we can solve for $\\beta$ by following the formula of the Moore-Penrose inverse.\n",
    "\n",
    "$$\\hat{\\beta} = H^\\dagger T$$\n",
    "\n",
    "Once $\\hat{\\beta}$ is solved, we can now use this to predict for the outputs of new data. For further proofs, I refer you to [2].\n",
    "\n",
    "$$T = H\\hat{\\beta}$$"
   ]
  },
  {
   "cell_type": "markdown",
   "metadata": {},
   "source": [
    "# Methodology"
   ]
  },
  {
   "cell_type": "markdown",
   "metadata": {},
   "source": [
    "In conducting this study, the following methods were done: 1) pre-processing, 2) model creation, and 3) model evaluation. Note that the results here were already retrieved from a grid-search on a previous notebook. This section contains a description of the dataset, pre-processing, and an overview of the target value counts.  "
   ]
  },
  {
   "cell_type": "code",
   "execution_count": 105,
   "metadata": {
    "ExecuteTime": {
     "end_time": "2021-01-18T16:11:46.639057Z",
     "start_time": "2021-01-18T16:11:46.629911Z"
    }
   },
   "outputs": [],
   "source": [
    "# general workflow\n",
    "import pandas as pd\n",
    "import numpy as np\n",
    "import matplotlib.pyplot as plt\n",
    "import seaborn as sns\n",
    "from sklearn.model_selection import (train_test_split, KFold,\n",
    "                                     cross_val_score)\n",
    "from sklearn.pipeline import Pipeline\n",
    "from imblearn.pipeline import make_pipeline\n",
    "from sklearn.base import clone\n",
    "from imblearn.over_sampling import SMOTE\n",
    "from sklearn.preprocessing import MinMaxScaler\n",
    "from sklearn.base import clone\n",
    "from sklearn.decomposition import PCA\n",
    "import warnings\n",
    "\n",
    "# typical models\n",
    "\n",
    "from sklearn.linear_model import LogisticRegression\n",
    "from sklearn.ensemble import (RandomForestClassifier, \n",
    "                              GradientBoostingClassifier)\n",
    "\n",
    "# metrics\n",
    "from sklearn.metrics import (roc_curve, roc_auc_score, recall_score, \n",
    "                             confusion_matrix, balanced_accuracy_score,\n",
    "                             accuracy_score, precision_score,\n",
    "                             classification_report)\n",
    "\n",
    "# neural networks\n",
    "from sklearn.neural_network import BernoulliRBM\n",
    "from tensorflow import keras\n",
    "from tensorflow.keras import layers\n",
    "import tensorflow as tf\n",
    "from keras import Sequential\n",
    "from tensorflow.keras import layers, activations\n",
    "from keras.layers import Embedding, SimpleRNN, Dense, Dropout\n",
    "from keras.utils.vis_utils import plot_model\n",
    "\n",
    "# import self defined ELM and helper functions\n",
    "from elm import ELM\n",
    "from helpers import * \n",
    "\n",
    "%matplotlib inline"
   ]
  },
  {
   "cell_type": "code",
   "execution_count": 109,
   "metadata": {
    "ExecuteTime": {
     "end_time": "2021-01-18T16:31:20.324460Z",
     "start_time": "2021-01-18T16:31:20.314901Z"
    }
   },
   "outputs": [],
   "source": [
    "def kfold_cv(X, y, k_neighbors=5, model=None, n_splits=3,\n",
    "             activation_function='relu', random_state=42): \n",
    "    \"\"\"Performs oversampling and K-Fold cross-validation. Oversampling is done\n",
    "    for each fold to avoid bleeding out information. Improper oversampling can\n",
    "    result to higher percieved accuracies. \n",
    "    \n",
    "    To validate results, the AUC-ROC and the Recall must be shown. Moreover,\n",
    "    the balanced accuracy must always be close to the AUC-ROC value. \n",
    "    \n",
    "    Parameters:\n",
    "    -----------\n",
    "    X : array-like\n",
    "        Input data. Preferably the entire dataset\n",
    "    y : array-like\n",
    "        Targets. \n",
    "    k_neighbors : int\n",
    "        Number of k neighbors in conducting SMOTE. Default is 5.\n",
    "    model : object-like, estimator\n",
    "        Machine learning model to be used. Default is a Logistic Regression\n",
    "        with random_state\n",
    "    n_splits : int\n",
    "        Number of K-Fold splits for cross validation. The higher the number, \n",
    "        the longer the runtime. Recommended values are in the range [3, 5].\n",
    "    activation_function : string\n",
    "        Activation function for the ELM model\n",
    "    random_state : int\n",
    "        Random state for cross-validation\n",
    "    \n",
    "    Returns:\n",
    "    --------\n",
    "    acc_mean : float\n",
    "        Average (unbalanced) accuracy of the model\n",
    "    bal_acc_mean : float\n",
    "        Average balanced accuracy of the model\n",
    "    auc_mean : float\n",
    "        Average AUC-ROC of the model\n",
    "    recall_mean : float\n",
    "        Average recall of the model\n",
    "    \"\"\"\n",
    "    # convert inputs to array\n",
    "    X = np.array(X)\n",
    "    y = np.array(y)\n",
    "    \n",
    "    # initialize smote\n",
    "    smote = SMOTE(sampling_strategy='minority', k_neighbors=k_neighbors)\n",
    "    \n",
    "    # create placeholders\n",
    "    auc = []\n",
    "    recall = []\n",
    "    accuracy = []\n",
    "    bal_accuracy = []\n",
    "    oo_fold = np.zeros(len(X))\n",
    "\n",
    "    # initialize cross validation\n",
    "    folds = KFold(n_splits=n_splits, shuffle=True, random_state=random_state)\n",
    "\n",
    "    # begin operation\n",
    "    for fold, (train_idx, val_idx) in enumerate(folds.split(X, y)):\n",
    "        print(f'Fold: {fold + 1} -> Starting...')\n",
    "        \n",
    "        # retrieve train and validation sets\n",
    "        train_data, val_data = X[train_idx], X[val_idx]\n",
    "        y_tr, y_val = y[train_idx], y[val_idx]\n",
    "\n",
    "        # oversample training data\n",
    "        train_upsample, y_upsample = smote.fit_resample(train_data, y_tr)\n",
    "        \n",
    "        # fit oversampled data to models\n",
    "        if model is None: # check for input models\n",
    "            model = GaussianNB()\n",
    "            model.fit(train_upsample, y_upsample)\n",
    "            oo_fold[val_idx] = model.predict_proba(val_data)[:, 1]\n",
    "        else: # if the model is an ELM\n",
    "            model.fit(train_upsample, y_upsample, activation_function)\n",
    "            oo_fold[val_idx] = model.predict(val_data)\n",
    "\n",
    "        \n",
    "        # compute metrics\n",
    "        # convert outputs into binary; some are floats\n",
    "        aucrec = roc_auc_score(y_val, np.where(oo_fold[val_idx] > 0.5, 1, 0))\n",
    "        rec = recall_score(y_val, np.where(oo_fold[val_idx] > 0.5, 1, 0))\n",
    "        acc = accuracy_score(y_val, np.where(oo_fold[val_idx] > 0.5, 1, 0))\n",
    "        bal_acc = balanced_accuracy_score(\n",
    "            y_val, np.where(oo_fold[val_idx] > 0.5, 1, 0))\n",
    "        \n",
    "        # print results for each fold\n",
    "        print(f'Accuracy: {acc}')\n",
    "        print(f'Balanced Accuracy: {bal_acc}')\n",
    "        print(f'Validation AUC-ROC: {aucrec}')\n",
    "        print(f'Validation Recall: {rec}')\n",
    "        \n",
    "        # append results from each fold\n",
    "        accuracy.append(acc)\n",
    "        bal_accuracy.append(bal_acc)\n",
    "        auc.append(aucrec)\n",
    "        recall.append(rec)\n",
    "\n",
    "    # get the average values of the metrics\n",
    "    auc_mean = np.mean(auc)\n",
    "    acc_mean = np.mean(accuracy)\n",
    "    recall_mean = np.mean(recall)\n",
    "    bal_acc_mean = np.mean(bal_accuracy)\n",
    "    \n",
    "    # print the average results\n",
    "    print('=' * 40)\n",
    "    print(f'Model Average Accuracy: {acc_mean}')\n",
    "    print(f'Model Average Balanced Accuracy: {bal_acc_mean}')\n",
    "    print(f'Model Average AUC-ROC: {auc_mean}')\n",
    "    print(f'Model Average Recall: {recall_mean}')\n",
    "    return acc_mean, bal_acc_mean, auc_mean, recall_mean\n"
   ]
  },
  {
   "cell_type": "markdown",
   "metadata": {},
   "source": [
    "## Description of the Dataset"
   ]
  },
  {
   "cell_type": "markdown",
   "metadata": {},
   "source": [
    "For this project, I wanted to use a different dataset, which could be used for actual projects and applications. Instead of relying to benchmark datasets, such as the MNIST image dataset, I chose the *HR Analytics: Job Change of Data Scientists* from Kaggle. Here is a [link](https://www.kaggle.com/arashnic/hr-analytics-job-change-of-data-scientists) to the actual dataset.\n",
    "\n",
    "The data source contains two files: one for training and one for testing. However, the test dataset has no labels to it, so to check the model performance the training set was used as the overall dataset. Moreover, it contains about 33k rows and most of the features are categorical. Some of these features are ordinal and were mapped accordingly. Below is a summary table of the features and their descriptions.\n"
   ]
  },
  {
   "cell_type": "markdown",
   "metadata": {},
   "source": [
    "|Feature|Description|\n",
    "|---|---|\n",
    "|`enrollee_id`| Unique ID for candidate|\n",
    "|`city`| City code|\n",
    "|`city_development_index`| Development index of the city (scaled)|\n",
    "|`gender`| Gender of the candidate|\n",
    "|`relevant_experience`| Relevant experience of the candidate|\n",
    "|`enrolled_university`| Type of University course enrolled if any|\n",
    "|`education_level`| Education level of candidate|\n",
    "|`major_discipline`| Education major discipline of the candidate|\n",
    "|`experience`| Candidate total experience in years|\n",
    "|`company_size`| Number of employees in current employer's company|\n",
    "|`company_type`| Type of current employer|\n",
    "|`last_new_job`| Difference in years between previous job and current job|\n",
    "|`training_hours`| Training hours completed|\n",
    "|`target`| 0 - Not looking for job change, 1 - looking for job change |\n"
   ]
  },
  {
   "cell_type": "markdown",
   "metadata": {},
   "source": [
    "## Pre-processing\n",
    "\n",
    "In preprocessing the data, I used a helper function called `cleaner` to do this. I put the function in a python script to make this report cleaner. There are some ordinal features, such as `relevant_experience`, `enrolled_university`, and more. These ordinal features were mapped accordingly. Moreover, some features whose order are non-existent or vague are one-hot encoded. These features are `city`, `gender`,`major_discipline`, and more. Doing this may avoid biasing the analysis and the model."
   ]
  },
  {
   "cell_type": "code",
   "execution_count": 50,
   "metadata": {
    "ExecuteTime": {
     "end_time": "2021-01-18T12:06:30.776260Z",
     "start_time": "2021-01-18T12:06:30.626458Z"
    }
   },
   "outputs": [],
   "source": [
    "train = pd.read_csv('aug_train.csv')\n",
    "\n",
    "eda_df = train.copy() # get a copy of the raw data for EDA\n",
    "\n",
    "# clean dataset\n",
    "cleaner(train)\n",
    "\n",
    "# one hot encode\n",
    "cols = ['city', 'gender', 'enrolled_university', 'major_discipline',\n",
    "        'company_type']\n",
    "train = pd.get_dummies(train, columns=cols).iloc[:, 1:]\n",
    "target = train.pop('target')\n",
    "\n",
    "\n",
    "# scale the data\n",
    "scaler = MinMaxScaler()\n",
    "train_ = scaler.fit_transform(train)\n",
    "\n",
    "# split into train and validation sets\n",
    "x_train, x_val, y_train, y_val = train_test_split(\n",
    "    train_, target, stratify=target, test_size=.25, random_state=42)"
   ]
  },
  {
   "cell_type": "markdown",
   "metadata": {},
   "source": [
    "The data is then scaled in the range [0, 1] to make the training time faster and it is also a requirement for the RBM to function properly. Then a 75-25 split was done on the scaled data. "
   ]
  },
  {
   "cell_type": "markdown",
   "metadata": {},
   "source": [
    "## Overview of the Targets"
   ]
  },
  {
   "cell_type": "markdown",
   "metadata": {},
   "source": [
    "To understand the dataset a bit more, I displayed a count plot of the targets below. We see that 0 or *Not looking for job change* has more than 14k counts. Down-sampling would reduce the dataset to about 5k data points, which is undesirable for neural networks. That is why oversampling is the preferred method here."
   ]
  },
  {
   "cell_type": "code",
   "execution_count": 48,
   "metadata": {
    "ExecuteTime": {
     "end_time": "2021-01-18T12:05:06.516509Z",
     "start_time": "2021-01-18T12:05:06.412070Z"
    }
   },
   "outputs": [
    {
     "data": {
      "image/png": "[encoded data removed]",
      "text/plain": [
       "<Figure size 1080x504 with 1 Axes>"
      ]
     },
     "metadata": {
      "needs_background": "light"
     },
     "output_type": "display_data"
    }
   ],
   "source": [
    "counts = target.value_counts()\n",
    "\n",
    "fig, ax = plt.subplots(figsize=(15, 7))\n",
    "sns.barplot(x=counts.index, y=counts, ax=ax)\n",
    "ax.set_xticklabels(['Not looking for Job Change', 'Looking for Job Change'])\n",
    "ax.set_ylabel('Count');"
   ]
  },
  {
   "cell_type": "markdown",
   "metadata": {},
   "source": [
    "# Results and Discussion\n",
    "\n",
    "This section is composed of 1) the baseline neural network, the RBM networks, and the ELM network. Further, an evaluation of the models will be done at the latter part of this section. The models will be checked if they outperform the naive method with cross-validation and oversampling, and if the models surpass the 1.25 Proportion Chance Criterion ($PCC$)."
   ]
  },
  {
   "cell_type": "markdown",
   "metadata": {},
   "source": [
    "## Baseline Neural Network"
   ]
  },
  {
   "cell_type": "markdown",
   "metadata": {},
   "source": [
    "To have a good foothold, we will be using a baseline neural network. This network architecture is based on a customer churn model, with a few tweaks on the parameters. This is to test if the RBM and ELM networks could outperform a baseline neural network for this dataset. "
   ]
  },
  {
   "cell_type": "code",
   "execution_count": 75,
   "metadata": {
    "ExecuteTime": {
     "end_time": "2021-01-18T12:35:32.014520Z",
     "start_time": "2021-01-18T12:34:39.166138Z"
    }
   },
   "outputs": [
    {
     "data": {
      "text/html": [
       "<div>\n",
       "<style scoped>\n",
       "    .dataframe tbody tr th:only-of-type {\n",
       "        vertical-align: middle;\n",
       "    }\n",
       "\n",
       "    .dataframe tbody tr th {\n",
       "        vertical-align: top;\n",
       "    }\n",
       "\n",
       "    .dataframe thead th {\n",
       "        text-align: right;\n",
       "    }\n",
       "</style>\n",
       "<table border=\"1\" class=\"dataframe\">\n",
       "  <thead>\n",
       "    <tr style=\"text-align: right;\">\n",
       "      <th></th>\n",
       "      <th>Average Accuracy</th>\n",
       "      <th>Average AUC-ROC</th>\n",
       "    </tr>\n",
       "  </thead>\n",
       "  <tbody>\n",
       "    <tr>\n",
       "      <th>Train</th>\n",
       "      <td>79.03</td>\n",
       "      <td>78.79</td>\n",
       "    </tr>\n",
       "    <tr>\n",
       "      <th>Validation</th>\n",
       "      <td>78.66</td>\n",
       "      <td>80.02</td>\n",
       "    </tr>\n",
       "  </tbody>\n",
       "</table>\n",
       "</div>"
      ],
      "text/plain": [
       "            Average Accuracy  Average AUC-ROC\n",
       "Train                  79.03            78.79\n",
       "Validation             78.66            80.02"
      ]
     },
     "metadata": {},
     "output_type": "display_data"
    },
    {
     "data": {
      "image/png": "[encoded data removed]",
      "text/plain": [
       "<Figure size 864x360 with 1 Axes>"
      ]
     },
     "metadata": {
      "needs_background": "light"
     },
     "output_type": "display_data"
    }
   ],
   "source": [
    "# create a learning rete decay schedule\n",
    "# for every 50 epochs, the learning rate will be half than the learning rate\n",
    "lr_schedule = tf.keras.optimizers.schedules.InverseTimeDecay(\n",
    "    0.0001, decay_steps=(x_train.shape[0] / 32) * 50, decay_rate=1,\n",
    "    staircase=False)\n",
    "\n",
    "# create model\n",
    "bench_model = Sequential()\n",
    "bench_model.add(Dense(64, kernel_regularizer=tf.keras.regularizers.l2(0.0001),\n",
    "                      input_dim=x_train.shape[1], activation='relu'))\n",
    "bench_model.add(Dropout(rate=0.2)) # avoids overfitting\n",
    "bench_model.add(Dense(8, kernel_regularizer=tf.keras.regularizers.l2(0.0001),\n",
    "                      activation='relu'))\n",
    "bench_model.add(Dropout(rate=0.1))\n",
    "bench_model.add(Dense(1, activation='sigmoid'))\n",
    "\n",
    "# compile the model\n",
    "bench_model.compile(loss=\"binary_crossentropy\",\n",
    "                    optimizer=tf.keras.optimizers.Adam(lr_schedule),\n",
    "                    metrics=['accuracy', tf.keras.metrics.AUC(name='auc')])\n",
    "\n",
    "# fit the model\n",
    "bench_hist = bench_model.fit(x_train, y_train, validation_data=(x_val, y_val),\n",
    "                             epochs=200, batch_size=32,\n",
    "                             callbacks=get_callbacks(), verbose=0)\n",
    "\n",
    "# evaluate\n",
    "bench_trainacc = bench_hist.history['accuracy']\n",
    "bench_valacc = bench_hist.history['val_accuracy']\n",
    "bench_trainauc = bench_hist.history['auc']\n",
    "bench_valauc = bench_hist.history['val_auc']\n",
    "\n",
    "# average accuracy of the model\n",
    "bench_mtacc = round(np.mean(bench_trainacc)* 100, 2)\n",
    "bench_mvacc = round(np.mean(bench_valacc) * 100, 2)\n",
    "\n",
    "# average auc of the model\n",
    "bench_mtauc = round(np.mean(bench_trainauc) * 100, 2)\n",
    "bench_mvauc = round(np.mean(bench_valauc) * 100, 2)\n",
    "\n",
    "display(pd.DataFrame([[bench_mtacc, bench_mtauc], [bench_mvacc, bench_mvauc]],\n",
    "                     columns=['Average Accuracy', 'Average AUC-ROC'],\n",
    "                     index=['Train', 'Validation']))\n",
    "\n",
    "plt.figure(figsize=(12, 5))\n",
    "plt.plot(bench_trainacc)\n",
    "plt.plot(bench_valacc)\n",
    "plt.title('model accuracy')\n",
    "plt.ylabel('accuracy')\n",
    "plt.xlabel('epoch')\n",
    "plt.legend(['train', 'validation'], loc='upper left')\n",
    "plt.show()"
   ]
  },
  {
   "cell_type": "markdown",
   "metadata": {},
   "source": [
    "We can see that the average accuracy of the model does not surpass the 79% mark. However, the average AUC-ROC of the model touched above 80% (at the time of writing). Since the dataset is imbalanced, the primary metric to be checked would be the AUC-ROC. Note that the validation accuracy is above the train accuracy because of the dropout layers included. \n",
    "\n",
    "The figure below is a visualization of the model architecture. "
   ]
  },
  {
   "cell_type": "code",
   "execution_count": 73,
   "metadata": {
    "ExecuteTime": {
     "end_time": "2021-01-18T12:33:58.100107Z",
     "start_time": "2021-01-18T12:33:57.554596Z"
    }
   },
   "outputs": [
    {
     "data": {
      "image/png": "[encoded data removed]",
      "text/plain": [
       "<IPython.core.display.Image object>"
      ]
     },
     "execution_count": 73,
     "metadata": {},
     "output_type": "execute_result"
    }
   ],
   "source": [
    "plot_model(bench_model, show_shapes=True, show_layer_names=True)"
   ]
  },
  {
   "cell_type": "markdown",
   "metadata": {},
   "source": [
    "## RBM Networks"
   ]
  },
  {
   "cell_type": "markdown",
   "metadata": {},
   "source": [
    "Let us now discuss the RBM networks created. The reason why Logistic Regression and Gradient Boosting Method (GBM) were the classifiers used was because of initial testing not present in this notebook. These classifiers gave the best benchmark scores with no over-fitting. \n",
    "\n",
    "Here we will compare two things for each network: one without SMOTE and one with SMOTE in the pipeline. Implementation-wise, I used a pipeline to connect the output of the RBM to the input of the classifier. This makes the implementation almost done in one line. "
   ]
  },
  {
   "cell_type": "markdown",
   "metadata": {},
   "source": [
    "### RBM and Logistic Regression\n",
    "\n",
    "We will first begin with the RBM with Logistic Regression. Here we will check the performance of the RBM + Logistic Regression model without the presence of any oversampling. The parameters present here were found via grid search in a previous notebook. "
   ]
  },
  {
   "cell_type": "code",
   "execution_count": 95,
   "metadata": {
    "ExecuteTime": {
     "end_time": "2021-01-18T15:37:43.622216Z",
     "start_time": "2021-01-18T15:37:22.940698Z"
    }
   },
   "outputs": [
    {
     "name": "stdout",
     "output_type": "stream",
     "text": [
      "Average AUC-ROC: 0.7361\n"
     ]
    }
   ],
   "source": [
    "# initialize models\n",
    "lr_base = LogisticRegression(random_state=42, C=0.1, max_iter=5000)\n",
    "rbm_base = BernoulliRBM(n_components=256, learning_rate=0.1,\n",
    "                        random_state=42, verbose=0, n_iter=10)\n",
    "\n",
    "# create pipeline\n",
    "base_pipe = Pipeline(steps=[('rbm', rbm_base), ('logistic', lr_base)])\n",
    "\n",
    "# Cross validation\n",
    "auc_base = cross_val_score(base_pipe, train_, target, scoring='roc_auc', cv=3)\n",
    "\n",
    "print(f'Average AUC-ROC: {np.mean(auc_base):.4f}')"
   ]
  },
  {
   "cell_type": "markdown",
   "metadata": {},
   "source": [
    "From the result above, we can see that the average AUC-ROC of the model is about 0.73. It was also found that even with oversampling in the pipeline for this network, the increase in the accuracy is negligible."
   ]
  },
  {
   "cell_type": "code",
   "execution_count": 94,
   "metadata": {
    "ExecuteTime": {
     "end_time": "2021-01-18T15:37:22.937986Z",
     "start_time": "2021-01-18T15:37:00.225005Z"
    }
   },
   "outputs": [
    {
     "name": "stdout",
     "output_type": "stream",
     "text": [
      "Average AUC-ROC: 0.7387\n"
     ]
    }
   ],
   "source": [
    "# with smote in pipeline\n",
    "lr_smote = LogisticRegression(random_state=42, C=0.1, max_iter=1000)\n",
    "rbm_smote = BernoulliRBM(n_components=256, learning_rate=0.1,\n",
    "                        random_state=42, verbose=0, n_iter=10)\n",
    "smote = SMOTE(random_state=42)\n",
    "\n",
    "# create pipeline\n",
    "smote_pipe = make_pipeline(rbm_smote, smote, lr_smote)\n",
    "smote_score = cross_val_score(smote_pipe, train_, target, \n",
    "                              scoring='roc_auc', cv=3)\n",
    "\n",
    "print(f'Average AUC-ROC: {np.mean(smote_score):.4f}')"
   ]
  },
  {
   "cell_type": "markdown",
   "metadata": {},
   "source": [
    "### RBM and GBM\n",
    "\n",
    "The next set of networks are RBMs with Gradient Boosting Method (GBM) models. These models take a longer time to train than the previous models, because of the GBM. Similar to the previous network, I compared the network with and without oversampling in the pipeline. "
   ]
  },
  {
   "cell_type": "code",
   "execution_count": 97,
   "metadata": {
    "ExecuteTime": {
     "end_time": "2021-01-18T15:55:53.481691Z",
     "start_time": "2021-01-18T15:45:52.094494Z"
    }
   },
   "outputs": [
    {
     "name": "stdout",
     "output_type": "stream",
     "text": [
      "Average AUC-ROC: 0.7702\n"
     ]
    }
   ],
   "source": [
    "# parameters were found from grid search\n",
    "\n",
    "gbm_base = GradientBoostingClassifier(learning_rate=0.1, n_estimators=200,\n",
    "                                       random_state=42)\n",
    "rbm_gbm_base = BernoulliRBM(learning_rate=0.1, n_components=256,\n",
    "                             random_state=42, verbose=0, n_iter=100,\n",
    "                             batch_size=50)\n",
    "# create pipeline\n",
    "gbmbase_pipe = Pipeline(steps=[('rbm', rbm_gbm_base), ('gbm', gbm_base)])\n",
    "\n",
    "base_gbmacc = cross_val_score(gbmbase_pipe, train_, target, \n",
    "                              scoring='roc_auc', cv=3)\n",
    "\n",
    "print(f'Average AUC-ROC: {np.mean(base_gbmacc):.4f}')"
   ]
  },
  {
   "cell_type": "code",
   "execution_count": 98,
   "metadata": {
    "ExecuteTime": {
     "end_time": "2021-01-18T16:04:02.270687Z",
     "start_time": "2021-01-18T15:55:53.483621Z"
    }
   },
   "outputs": [
    {
     "name": "stdout",
     "output_type": "stream",
     "text": [
      "Average AUC-ROC: 0.7707\n"
     ]
    }
   ],
   "source": [
    "gbm_smote = GradientBoostingClassifier(learning_rate=0.1, n_estimators=100,\n",
    "                                       random_state=42)\n",
    "rbm_gbm_smote = BernoulliRBM(learning_rate=0.1, n_components=256,\n",
    "                             random_state=42, verbose=0, n_iter=100,\n",
    "                             batch_size=50)\n",
    "smote = SMOTE(random_state=42)\n",
    "\n",
    "gbmsmote_pipe = make_pipeline(rbm_gbm_smote, smote, gbm_smote)\n",
    "\n",
    "\n",
    "smote_gbm_score = cross_val_score(gbmsmote_pipe, train_, target,\n",
    "                           scoring='roc_auc', cv=3)\n",
    "print(f'Average AUC-ROC: {np.mean(smote_gbm_score):.4f}')"
   ]
  },
  {
   "cell_type": "markdown",
   "metadata": {},
   "source": [
    "## Extreme Learning Machine"
   ]
  },
  {
   "cell_type": "markdown",
   "metadata": {},
   "source": [
    "In this discussion, an extreme learning machine will be created. ELMs are fast and have a good performance. Since there are no packages that have ELMs, I decided to create one using NumPy based on [this implementation](https://towardsdatascience.com/build-an-extreme-learning-machine-in-python-91d1e8958599). Since I can't use the `cross_val` function on this model, I had to oversample the training data to be able to tune it properly. Below is the implementation of this process"
   ]
  },
  {
   "cell_type": "code",
   "execution_count": 126,
   "metadata": {
    "ExecuteTime": {
     "end_time": "2021-01-18T16:48:44.977632Z",
     "start_time": "2021-01-18T16:48:37.311636Z"
    },
    "scrolled": false
   },
   "outputs": [
    {
     "data": {
      "text/html": [
       "<div>\n",
       "<style scoped>\n",
       "    .dataframe tbody tr th:only-of-type {\n",
       "        vertical-align: middle;\n",
       "    }\n",
       "\n",
       "    .dataframe tbody tr th {\n",
       "        vertical-align: top;\n",
       "    }\n",
       "\n",
       "    .dataframe thead th {\n",
       "        text-align: right;\n",
       "    }\n",
       "</style>\n",
       "<table border=\"1\" class=\"dataframe\">\n",
       "  <thead>\n",
       "    <tr style=\"text-align: right;\">\n",
       "      <th></th>\n",
       "      <th>Average Values</th>\n",
       "    </tr>\n",
       "  </thead>\n",
       "  <tbody>\n",
       "    <tr>\n",
       "      <th>Accuracy</th>\n",
       "      <td>0.757307</td>\n",
       "    </tr>\n",
       "    <tr>\n",
       "      <th>AUC-ROC</th>\n",
       "      <td>0.743594</td>\n",
       "    </tr>\n",
       "  </tbody>\n",
       "</table>\n",
       "</div>"
      ],
      "text/plain": [
       "          Average Values\n",
       "Accuracy        0.757307\n",
       "AUC-ROC         0.743594"
      ]
     },
     "metadata": {},
     "output_type": "display_data"
    },
    {
     "data": {
      "image/png": "[encoded data removed]",
      "text/plain": [
       "<Figure size 864x360 with 1 Axes>"
      ]
     },
     "metadata": {
      "needs_background": "light"
     },
     "output_type": "display_data"
    }
   ],
   "source": [
    "# oversample the training data\n",
    "x_up, y_up = SMOTE(random_state=42).fit_resample(x_train, y_train)\n",
    "\n",
    "# initialize placeholders\n",
    "acc = []\n",
    "auc = []\n",
    "rec = []\n",
    "node_range = range(100, 1100, 100) # create range for hidden nodes\n",
    "\n",
    "# get accuracies for each number of hidden nodes\n",
    "for hnodes in node_range:\n",
    "    elm = ELM(x_up.shape[1], hnodes)\n",
    "    elm.fit(x_up, y_up, 'relu')\n",
    "    prediction = np.rint(elm.predict(x_val)) # convert into integers\n",
    "\n",
    "    acc.append(accuracy_score(y_val, prediction))\n",
    "    auc.append(roc_auc_score(y_val, prediction))\n",
    "    \n",
    "mean_acc = np.mean(acc)\n",
    "mean_auc = np.mean(auc)\n",
    "display(pd.DataFrame([mean_acc, mean_auc], \n",
    "                     columns=['Average Values'], \n",
    "                     index=['Accuracy', 'AUC-ROC']))\n",
    "\n",
    "plt.figure(figsize=(12, 5))\n",
    "plt.plot(node_range, acc, label='Accuracy', linestyle='-', marker='o')\n",
    "plt.plot(node_range, auc, label='AUC-ROC', linestyle='--', marker='*')\n",
    "plt.legend()\n",
    "plt.show()"
   ]
  },
  {
   "cell_type": "markdown",
   "metadata": {},
   "source": [
    "Here we see that 400 nodes have the highest accuracies so far. I already checked other ranges, but found that the range from 100 to 1000 is the best. Anything outside this range gains measures less than 70% for some reason. Since the weights and biases are randomly set and no backpropagation is being used, we can create oversampling and cross validation to check its robustness and generalizability. "
   ]
  },
  {
   "cell_type": "code",
   "execution_count": 127,
   "metadata": {
    "ExecuteTime": {
     "end_time": "2021-01-18T16:48:57.021219Z",
     "start_time": "2021-01-18T16:48:53.638766Z"
    }
   },
   "outputs": [
    {
     "name": "stdout",
     "output_type": "stream",
     "text": [
      "Fold: 1 -> Starting...\n",
      "Accuracy: 0.7586908863138114\n",
      "Balanced Accuracy: 0.7374360913188891\n",
      "Validation AUC-ROC: 0.7374360913188891\n",
      "Validation Recall: 0.6941538461538461\n",
      "Fold: 2 -> Starting...\n",
      "Accuracy: 0.7577513310366426\n",
      "Balanced Accuracy: 0.7393597676188511\n",
      "Validation AUC-ROC: 0.7393597676188511\n",
      "Validation Recall: 0.7029077117572693\n",
      "Fold: 3 -> Starting...\n",
      "Accuracy: 0.7505480739116818\n",
      "Balanced Accuracy: 0.7328693368178258\n",
      "Validation AUC-ROC: 0.7328693368178258\n",
      "Validation Recall: 0.6980891719745222\n",
      "========================================\n",
      "Model Average Accuracy: 0.755663430420712\n",
      "Model Average Balanced Accuracy: 0.7365550652518552\n",
      "Model Average AUC-ROC: 0.7365550652518552\n",
      "Model Average Recall: 0.6983835766285459\n"
     ]
    }
   ],
   "source": [
    "acc, bal_acc, auc, rec=  kfold_cv(train_, target, \n",
    "                                  model=ELM(train_.shape[1], 200), \n",
    "                                  activation_function='relu', n_splits=3)\n"
   ]
  },
  {
   "cell_type": "markdown",
   "metadata": {},
   "source": [
    "From there we can see that the ELM model is quite stable at about 73% accuracy. Given its speed, this model is quite impressive in its performance. A likely application of this model is to become a benchmark, or even as a main model for mobile applications. The main drawback may be its interpretability."
   ]
  },
  {
   "cell_type": "markdown",
   "metadata": {},
   "source": [
    "## Evaluation"
   ]
  },
  {
   "cell_type": "markdown",
   "metadata": {},
   "source": [
    "If we were to evaluate the models, we must first establish the PCC as a benchmark. As a heuristic, we use the $1.25PCC$ to evaluate if the model performs well. We can see below that the values are 62.57% and 78.21% for $PCC$ and $1.25PCC$, respectively."
   ]
  },
  {
   "cell_type": "code",
   "execution_count": 122,
   "metadata": {
    "ExecuteTime": {
     "end_time": "2021-01-18T16:43:31.373399Z",
     "start_time": "2021-01-18T16:43:31.367720Z"
    }
   },
   "outputs": [
    {
     "name": "stdout",
     "output_type": "stream",
     "text": [
      "PCC = 62.57%\n",
      "1.25PCC = 78.21%\n"
     ]
    }
   ],
   "source": [
    "tot = target.value_counts().sum()\n",
    "items = target.value_counts()\n",
    "\n",
    "pcc = (items[0] / tot)**2 + (items[1] / tot)**2\n",
    "print(f'PCC = {pcc * 100:.2f}%')\n",
    "print(f'1.25PCC = {1.25*pcc * 100:.2f}%')"
   ]
  },
  {
   "cell_type": "markdown",
   "metadata": {},
   "source": [
    "A summary table below shows the model accuracies after cross validation and their runtimes.\n",
    "\n",
    "|Model|Accuracy|Total Runtime|\n",
    "|---|---|---|\n",
    "|Benchmark ANN| 80.02%| 52.8s|\n",
    "|RBM + Logistic Regression| 73.61%|20.07s|\n",
    "|RBM + SMOTE + Logistic Regression| 73.87%|22.7s|\n",
    "|RBM + GBM | 77.02%| 10m 1s|\n",
    "|RBM + SMOTE + GBM| 77.07%| 8m 9s|\n",
    "|ELM (ReLu 200)| 73.66%| 3.38s|\n",
    "\n",
    "The generated RBM and ELM networks still underperformed compared to the benchmark ANN created. Impressive still is ELM for its performance with the short runtime. I also note that both of these networks may not have surpassed the $1.25PCC$, they did perform better than the base $PCC$ value. Which may not be that bad if we are considering the difficulty of the dataset used. "
   ]
  },
  {
   "cell_type": "markdown",
   "metadata": {},
   "source": [
    "# Conclusion and Recommendation"
   ]
  },
  {
   "cell_type": "markdown",
   "metadata": {},
   "source": [
    "To summarize this study, I learned that tuning an RBM network is difficult. It takes a bit of time to train, since these are essentially two models stacked together. Moreover, an ELM network performs well especially if we consider how short the runtime is for it to learn the weights. All in all, these models seem to underperform when compared to the benchmark ANN used for this study, but it may not always be the case for certain tasks.\n",
    "\n",
    "To improve this study I recommend using a different pre-processing method. Maybe the results were highly skewed by the methodology used. Maybe instead of over-sampling, we may under-sample using Tomek links. It might also be interesting to use the deep-learning counterparts of these models, namely Deep Belief Network and Deep Extreme Learning Machines. These are known to have a better performance than their shallow-counterparts.\n",
    "\n",
    "This study was important for me to practice and learn new methods and models, which I may apply in many problems. For me, it is good to know where we had been for us to know where we are going. "
   ]
  },
  {
   "cell_type": "markdown",
   "metadata": {},
   "source": [
    "# References"
   ]
  },
  {
   "cell_type": "markdown",
   "metadata": {},
   "source": [
    "\n",
    "[1] Sharma, A. (2018, December 06). Restricted Boltzmann Machines - Simplified. Retrieved January 18, 2021, from https://towardsdatascience.com/restricted-boltzmann-machines-simplified-eab1e5878976\n",
    "\n",
    "[2] A Beginner's Guide to Restricted Boltzmann Machines (RBMs). (n.d.). Retrieved January 18, 2021, from https://wiki.pathmind.com/restricted-boltzmann-machine\n",
    "\n",
    "[3] Erdem, K. (2020, May 29). Introduction to Extreme Learning Machines. Retrieved January 18, 2021, from https://towardsdatascience.com/introduction-to-extreme-learning-machines-c020020ff82b\n"
   ]
  },
  {
   "cell_type": "code",
   "execution_count": null,
   "metadata": {},
   "outputs": [],
   "source": []
  }
 ],
 "metadata": {
  "kernelspec": {
   "display_name": "Python 3",
   "language": "python",
   "name": "python3"
  },
  "language_info": {
   "codemirror_mode": {
    "name": "ipython",
    "version": 3
   },
   "file_extension": ".py",
   "mimetype": "text/x-python",
   "name": "python",
   "nbconvert_exporter": "python",
   "pygments_lexer": "ipython3",
   "version": "3.8.5"
  },
  "toc": {
   "base_numbering": 1,
   "nav_menu": {},
   "number_sections": true,
   "sideBar": true,
   "skip_h1_title": false,
   "title_cell": "Table of Contents",
   "title_sidebar": "Contents",
   "toc_cell": false,
   "toc_position": {
    "height": "calc(100% - 180px)",
    "left": "10px",
    "top": "150px",
    "width": "165px"
   },
   "toc_section_display": true,
   "toc_window_display": true
  }
 },
 "nbformat": 4,
 "nbformat_minor": 4
}
